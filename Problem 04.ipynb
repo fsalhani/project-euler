{
 "cells": [
  {
   "cell_type": "markdown",
   "metadata": {},
   "source": [
    "# Problem 4"
   ]
  },
  {
   "cell_type": "markdown",
   "metadata": {},
   "source": [
    "### Largest palindrome product\n",
    "A palindromic number reads the same both ways. The largest palindrome made from the product of two 2-digit numbers is 9009 = 91 × 99.\n",
    "\n",
    "Find the largest palindrome made from the product of two 3-digit numbers."
   ]
  },
  {
   "cell_type": "markdown",
   "metadata": {},
   "source": [
    "###### Solution"
   ]
  },
  {
   "cell_type": "code",
   "execution_count": 1,
   "metadata": {},
   "outputs": [],
   "source": [
    "def is_palindrome(n):\n",
    "    \"\"\"\n",
    "    Determines if an integer is a palindrome\n",
    "    \n",
    "    Input: int\n",
    "    \n",
    "    Return: bool\n",
    "    \"\"\"\n",
    "    digits = []\n",
    "    while n > 0:\n",
    "        digits.append(n%10)\n",
    "        n = n//10\n",
    "    \n",
    "    for i in range(len(digits)):\n",
    "        if digits[i] != digits[-i-1]:\n",
    "            return False\n",
    "        \n",
    "    return True"
   ]
  },
  {
   "cell_type": "markdown",
   "metadata": {},
   "source": [
    "Testing the function to make sure it works"
   ]
  },
  {
   "cell_type": "code",
   "execution_count": 2,
   "metadata": {},
   "outputs": [
    {
     "name": "stdout",
     "output_type": "stream",
     "text": [
      "Is the number 1274721 a palindrome?\n",
      "True\n",
      "\n",
      "Is the number 58291 a palindrome?\n",
      "False\n"
     ]
    }
   ],
   "source": [
    "n = 1274721\n",
    "print('Is the number {0} a palindrome?\\n{1}\\n'.format(n,is_palindrome(n)))\n",
    "\n",
    "n = 58291\n",
    "print('Is the number {0} a palindrome?\\n{1}'.format(n,is_palindrome(n)))"
   ]
  },
  {
   "cell_type": "markdown",
   "metadata": {},
   "source": [
    "###### Brute force version of the function to determine the largest palindrome\n",
    "Just iterates through all possible numbers checking if the new palindrome is greater than the previous ones found"
   ]
  },
  {
   "cell_type": "code",
   "execution_count": 3,
   "metadata": {},
   "outputs": [],
   "source": [
    "def largest_palindrome_product(factor_digits):\n",
    "    \"\"\"\n",
    "    Determines the largest palindrome product of two integers with a given number of digits\n",
    "    \n",
    "    Input: Number of digits\n",
    "           type: int\n",
    "           \n",
    "    Return:\n",
    "    - Largest palindrome\n",
    "    type: int\n",
    "    - Factor1\n",
    "    type: int\n",
    "    - Factor2\n",
    "    type: int\n",
    "    \"\"\"\n",
    "    max_value = 10 ** factor_digits - 1\n",
    "    min_value = 10 ** (factor_digits-1)\n",
    "    \n",
    "    factor1 = max_value\n",
    "    min_factor2 = 0\n",
    "    largest = 0\n",
    "    \n",
    "    while factor1 > min_value:\n",
    "        factor2 = max_value\n",
    "        while factor2 >= factor1:\n",
    "            if is_palindrome(factor1 * factor2):\n",
    "                if factor1 * factor2 > largest:\n",
    "                    largest = factor1 * factor2\n",
    "                    f1 = factor1\n",
    "                    f2 = factor2\n",
    "            factor2 -= 1\n",
    "        factor1 -= 1\n",
    "    \n",
    "    return largest, f1, f2"
   ]
  },
  {
   "cell_type": "code",
   "execution_count": 5,
   "metadata": {},
   "outputs": [
    {
     "name": "stdout",
     "output_type": "stream",
     "text": [
      "The largest palindrome product of two-digit numbers is: 9009 = 91 * 99\n",
      "Time to run the function was: 0.008002519607543945s\n",
      "\n",
      "The largest palindrome product of three-digit numbers is: 906609 = 913 * 993\n",
      "Time to run the function was: 0.7518208026885986s\n",
      "\n",
      "The largest palindrome product of four-digit numbers is: 99000099 = 9901 * 9999\n",
      "Time to run the function was: 123.68189740180969s\n"
     ]
    }
   ],
   "source": [
    "import time\n",
    "\n",
    "t0 = time.time()\n",
    "largest,f1,f2 = largest_palindrome_product(2)\n",
    "t1 = time.time()\n",
    "print(\"The largest palindrome product of two-digit numbers is: {2} = {0} * {1}\".format(f1,f2,largest))\n",
    "print(\"Time to run the function was: {}s\".format(t1-t0))\n",
    "\n",
    "t0 = time.time()\n",
    "largest,f1,f2 = largest_palindrome_product(3)\n",
    "t1 = time.time()\n",
    "print(\"\\nThe largest palindrome product of three-digit numbers is: {2} = {0} * {1}\".format(f1,f2,largest))\n",
    "print(\"Time to run the function was: {}s\".format(t1-t0))\n",
    "\n",
    "t0 = time.time()\n",
    "largest,f1,f2 = largest_palindrome_product(4)\n",
    "t1 = time.time()\n",
    "print(\"\\nThe largest palindrome product of four-digit numbers is: {2} = {0} * {1}\".format(f1,f2,largest))\n",
    "print(\"Time to run the function was: {}s\".format(t1-t0))"
   ]
  },
  {
   "cell_type": "markdown",
   "metadata": {},
   "source": [
    "Although running the function for 3-digit was still fast, there are a few optimizations that can make the function execute much faster by eliminating some iterations that could never result in a greater product than the current highest palindrome"
   ]
  },
  {
   "cell_type": "markdown",
   "metadata": {},
   "source": [
    "###### Almost the same solution, but a little smarter"
   ]
  },
  {
   "cell_type": "code",
   "execution_count": 6,
   "metadata": {},
   "outputs": [],
   "source": [
    "def largest_palindrome_product(factor_digits):\n",
    "    \"\"\"\n",
    "    Determines the largest palindrome product of two integers with a given number of digits\n",
    "    \n",
    "    Input: Number of digits\n",
    "           type: int\n",
    "           \n",
    "    Return:\n",
    "    - Largest palindrome\n",
    "    type: int\n",
    "    - Factor1\n",
    "    type: int\n",
    "    - Factor2\n",
    "    type: int\n",
    "    \"\"\"\n",
    "    max_value = 10 ** factor_digits - 1\n",
    "    min_value = 10 ** (factor_digits-1)\n",
    "    \n",
    "    factor1 = max_value\n",
    "    min_factor2 = 0\n",
    "    largest = 0\n",
    "    \n",
    "    while factor1 > max(min_value,largest//max_value):\n",
    "        factor2 = max_value\n",
    "        while factor2 >= max(factor1,min_factor2):\n",
    "            if is_palindrome(factor1 * factor2):\n",
    "                min_factor2 = factor2\n",
    "                if factor1 * factor2 > largest:\n",
    "                    largest = factor1 * factor2\n",
    "                    f1 = factor1\n",
    "                    f2 = factor2\n",
    "            factor2 -= 1\n",
    "        factor1 -= 1\n",
    "    \n",
    "    return largest, f1, f2"
   ]
  },
  {
   "cell_type": "code",
   "execution_count": 7,
   "metadata": {},
   "outputs": [
    {
     "name": "stdout",
     "output_type": "stream",
     "text": [
      "The largest palindrome product of two-digit numbers is: 9009 = 91 * 99\n",
      "Time to run the function was: 0.0s\n",
      "\n",
      "The largest palindrome product of three-digit numbers is: 906609 = 913 * 993\n",
      "Time to run the function was: 0.013527870178222656s\n",
      "\n",
      "The largest palindrome product of four-digit numbers is: 99000099 = 9901 * 9999\n",
      "Time to run the function was: 0.02001476287841797s\n",
      "\n",
      "The largest palindrome product of five-digit numbers is: 9966006699 = 99681 * 99979\n",
      "Time to run the function was: 0.19617271423339844s\n",
      "\n",
      "The largest palindrome product of six-digit numbers is: 999000000999 = 999001 * 999999\n",
      "Time to run the function was: 2.283132553100586s\n",
      "\n",
      "The largest palindrome product of seven-digit numbers is: 99956644665999 = 9997647 * 9998017\n",
      "Time to run the function was: 39.20926260948181s\n"
     ]
    }
   ],
   "source": [
    "import time\n",
    "\n",
    "t0 = time.time()\n",
    "largest,f1,f2 = largest_palindrome_product(2)\n",
    "t1 = time.time()\n",
    "print(\"The largest palindrome product of two-digit numbers is: {2} = {0} * {1}\".format(f1,f2,largest))\n",
    "print(\"Time to run the function was: {}s\".format(t1-t0))\n",
    "\n",
    "t0 = time.time()\n",
    "largest,f1,f2 = largest_palindrome_product(3)\n",
    "t1 = time.time()\n",
    "print(\"\\nThe largest palindrome product of three-digit numbers is: {2} = {0} * {1}\".format(f1,f2,largest))\n",
    "print(\"Time to run the function was: {}s\".format(t1-t0))\n",
    "\n",
    "t0 = time.time()\n",
    "largest,f1,f2 = largest_palindrome_product(4)\n",
    "t1 = time.time()\n",
    "print(\"\\nThe largest palindrome product of four-digit numbers is: {2} = {0} * {1}\".format(f1,f2,largest))\n",
    "print(\"Time to run the function was: {}s\".format(t1-t0))\n",
    "\n",
    "t0 = time.time()\n",
    "largest,f1,f2 = largest_palindrome_product(5)\n",
    "t1 = time.time()\n",
    "print(\"\\nThe largest palindrome product of five-digit numbers is: {2} = {0} * {1}\".format(f1,f2,largest))\n",
    "print(\"Time to run the function was: {}s\".format(t1-t0))\n",
    "\n",
    "t0 = time.time()\n",
    "largest,f1,f2 = largest_palindrome_product(6)\n",
    "t1 = time.time()\n",
    "print(\"\\nThe largest palindrome product of six-digit numbers is: {2} = {0} * {1}\".format(f1,f2,largest))\n",
    "print(\"Time to run the function was: {}s\".format(t1-t0))\n",
    "\n",
    "t0 = time.time()\n",
    "largest,f1,f2 = largest_palindrome_product(7)\n",
    "t1 = time.time()\n",
    "print(\"\\nThe largest palindrome product of seven-digit numbers is: {2} = {0} * {1}\".format(f1,f2,largest))\n",
    "print(\"Time to run the function was: {}s\".format(t1-t0))"
   ]
  },
  {
   "cell_type": "markdown",
   "metadata": {},
   "source": [
    "As we can see, the results are the same, but the time it took to run the function for 7-digit numbers was 1/3 of the time the previous function took to run for just 4-digit numbers"
   ]
  },
  {
   "cell_type": "markdown",
   "metadata": {},
   "source": [
    "THE FINAL ANSWER IS: **906609**"
   ]
  }
 ],
 "metadata": {
  "kernelspec": {
   "display_name": "Python 3",
   "language": "python",
   "name": "python3"
  },
  "language_info": {
   "codemirror_mode": {
    "name": "ipython",
    "version": 3
   },
   "file_extension": ".py",
   "mimetype": "text/x-python",
   "name": "python",
   "nbconvert_exporter": "python",
   "pygments_lexer": "ipython3",
   "version": "3.6.5"
  }
 },
 "nbformat": 4,
 "nbformat_minor": 2
}
