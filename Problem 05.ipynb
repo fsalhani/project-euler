{
 "cells": [
  {
   "cell_type": "markdown",
   "metadata": {},
   "source": [
    "# Problem 5"
   ]
  },
  {
   "cell_type": "markdown",
   "metadata": {},
   "source": [
    "### Smallest multiple\n",
    "2520 is the smallest number that can be divided by each of the numbers from 1 to 10 without any remainder.\n",
    "\n",
    "What is the smallest positive number that is evenly divisible by all of the numbers from 1 to 20?"
   ]
  },
  {
   "cell_type": "markdown",
   "metadata": {},
   "source": [
    "###### Brute force solution\n",
    "Literally just iterating with all possible numbers until finding the answer. This is very slow and not a good method for solving this problem if largest numbers are used"
   ]
  },
  {
   "cell_type": "code",
   "execution_count": 1,
   "metadata": {},
   "outputs": [],
   "source": [
    "def smallest_multiple_bf(n):\n",
    "    \"\"\"\n",
    "    Gets the smallest number that is simutaneously a multiple of all numbers from 1 to n\n",
    "    \n",
    "    Input: int\n",
    "    \n",
    "    Returns: int\n",
    "    \"\"\"\n",
    "    number = 0\n",
    "    found = False\n",
    "    while not found:\n",
    "        found = True\n",
    "        number += 1\n",
    "        for i in range(1,n+1):\n",
    "            if number%i != 0:\n",
    "                found = False\n",
    "                break\n",
    "    return number"
   ]
  },
  {
   "cell_type": "code",
   "execution_count": 2,
   "metadata": {},
   "outputs": [
    {
     "data": {
      "text/plain": [
       "232792560"
      ]
     },
     "execution_count": 2,
     "metadata": {},
     "output_type": "execute_result"
    }
   ],
   "source": [
    "smallest_multiple_bf(20)"
   ]
  },
  {
   "cell_type": "markdown",
   "metadata": {},
   "source": [
    "###### Alternative solution using math properties\n",
    "A different solution would be to use the prime factors of each of the numbers from 1 to n to find the smallest common multiple of all those numbers\n",
    "\n",
    "That can be done, because every number is a multiple of another number if it has at least the same quantity of each of the other's prime factors. Example:\n",
    "\n",
    "76 = 2^2 x 19 (Two factors 2 and one factor 19)\n",
    "\n",
    "Therefore, every number that has at least two factors 2 and one factor 19 will be a multiple of 76.\n",
    "\n",
    "456 = 2^3 x 3 x 19, so it is a multiple of 76"
   ]
  },
  {
   "cell_type": "code",
   "execution_count": 3,
   "metadata": {},
   "outputs": [],
   "source": [
    "def get_factors(n):\n",
    "    \"\"\"\n",
    "    Returns a dictionary with the prime factors of the number n\n",
    "    \n",
    "    Input: int\n",
    "    \n",
    "    Returns: dict\n",
    "    \"\"\"\n",
    "    factor = 2\n",
    "    factors = {}\n",
    "    while n > 1:\n",
    "        while n%factor == 0:\n",
    "            if factor in factors:\n",
    "                factors[factor] += 1\n",
    "            else:\n",
    "                factors[factor] = 1\n",
    "            n = n//factor\n",
    "        factor += 1\n",
    "    \n",
    "    return factors"
   ]
  },
  {
   "cell_type": "code",
   "execution_count": 4,
   "metadata": {},
   "outputs": [],
   "source": [
    "def smallest_multiple(n):\n",
    "    \"\"\"\n",
    "    Gets the smallest number that is simutaneously a multiple of all numbers from 1 to n\n",
    "    \n",
    "    Input: int\n",
    "    \n",
    "    Returns: int\n",
    "    \"\"\"\n",
    "    factors = {}\n",
    "    for i in range(2,n+1):\n",
    "        new = get_factors(i)\n",
    "        for factor in new:\n",
    "            if factor in factors:\n",
    "                factors[factor] = max(factors[factor],new[factor])\n",
    "            else:\n",
    "                factors[factor] = new[factor]\n",
    "    \n",
    "    smallest_common_multiple = 1\n",
    "    for factor in factors:\n",
    "        smallest_common_multiple *= factor**factors[factor]\n",
    "        \n",
    "    return smallest_common_multiple"
   ]
  },
  {
   "cell_type": "code",
   "execution_count": 5,
   "metadata": {},
   "outputs": [
    {
     "data": {
      "text/plain": [
       "232792560"
      ]
     },
     "execution_count": 5,
     "metadata": {},
     "output_type": "execute_result"
    }
   ],
   "source": [
    "smallest_multiple(20)"
   ]
  }
 ],
 "metadata": {
  "kernelspec": {
   "display_name": "Python 3",
   "language": "python",
   "name": "python3"
  },
  "language_info": {
   "codemirror_mode": {
    "name": "ipython",
    "version": 3
   },
   "file_extension": ".py",
   "mimetype": "text/x-python",
   "name": "python",
   "nbconvert_exporter": "python",
   "pygments_lexer": "ipython3",
   "version": "3.6.5"
  }
 },
 "nbformat": 4,
 "nbformat_minor": 2
}
