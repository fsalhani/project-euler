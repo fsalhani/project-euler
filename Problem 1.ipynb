{
 "cells": [
  {
   "cell_type": "markdown",
   "metadata": {},
   "source": [
    "# Problem 1"
   ]
  },
  {
   "cell_type": "markdown",
   "metadata": {},
   "source": [
    "### Multiples of 3 and 5\n",
    "\n",
    "If we list all the natural numbers below 10 that are multiples of 3 or 5, we get 3, 5, 6 and 9. The sum of these multiples is 23.\n",
    "\n",
    "Find the sum of all the multiples of 3 or 5 below 1000."
   ]
  },
  {
   "cell_type": "markdown",
   "metadata": {},
   "source": [
    "###### Solution 1\n",
    "Using just a simple for loop checking the numbers from 1 to 999"
   ]
  },
  {
   "cell_type": "code",
   "execution_count": 1,
   "metadata": {},
   "outputs": [
    {
     "name": "stdout",
     "output_type": "stream",
     "text": [
      "233168\n"
     ]
    }
   ],
   "source": [
    "total_sum = 0\n",
    "\n",
    "for num in range(1000):\n",
    "    if num%3==0 or num%5==0:\n",
    "        total_sum += num\n",
    "        \n",
    "print(total_sum)"
   ]
  },
  {
   "cell_type": "markdown",
   "metadata": {},
   "source": [
    "###### Solution 2\n",
    "Alternative solution using a function"
   ]
  },
  {
   "cell_type": "code",
   "execution_count": 2,
   "metadata": {},
   "outputs": [],
   "source": [
    "def sum_of_multiples(numbers,upper_limit):\n",
    "    \"\"\"\n",
    "    Function that receives a list of numbers and calculates the sum of their multiples below given limit\n",
    "    \n",
    "    Input:\n",
    "    - numbers: list of numbers\n",
    "    type: list or array\n",
    "    - upper limit: upper boundary for the numbers to be summed (not included)\n",
    "    type: int\n",
    "    \n",
    "    Returns: int\n",
    "    \"\"\"\n",
    "    total_sum = 0\n",
    "    \n",
    "    for num in range(upper_limit):\n",
    "        for divisor in numbers:\n",
    "            if num%divisor == 0:\n",
    "                total_sum += num\n",
    "                break\n",
    "    \n",
    "    return total_sum"
   ]
  },
  {
   "cell_type": "code",
   "execution_count": 3,
   "metadata": {},
   "outputs": [
    {
     "name": "stdout",
     "output_type": "stream",
     "text": [
      "233168\n"
     ]
    }
   ],
   "source": [
    "print(sum_of_multiples([3,5],1000))"
   ]
  }
 ],
 "metadata": {
  "kernelspec": {
   "display_name": "Python 3",
   "language": "python",
   "name": "python3"
  },
  "language_info": {
   "codemirror_mode": {
    "name": "ipython",
    "version": 3
   },
   "file_extension": ".py",
   "mimetype": "text/x-python",
   "name": "python",
   "nbconvert_exporter": "python",
   "pygments_lexer": "ipython3",
   "version": "3.6.5"
  }
 },
 "nbformat": 4,
 "nbformat_minor": 2
}
