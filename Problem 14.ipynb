{
 "cells": [
  {
   "cell_type": "markdown",
   "metadata": {},
   "source": [
    "# Problem 14 "
   ]
  },
  {
   "cell_type": "markdown",
   "metadata": {},
   "source": [
    "### Longest Collatz sequence\n",
    "The following iterative sequence is defined for the set of positive integers:\n",
    "\n",
    "**n → n/2 (n is even)**\n",
    "\n",
    "**n → 3n + 1 (n is odd)**\n",
    "\n",
    "Using the rule above and starting with 13, we generate the following sequence:\n",
    "\n",
    "13 → 40 → 20 → 10 → 5 → 16 → 8 → 4 → 2 → 1\n",
    "\n",
    "It can be seen that this sequence (starting at 13 and finishing at 1) contains 10 terms. Although it has not been proved yet (Collatz Problem), it is thought that all starting numbers finish at 1.\n",
    "\n",
    "Which starting number, under one million, produces the longest chain?\n",
    "\n",
    "**NOTE:** Once the chain starts the terms are allowed to go above one million."
   ]
  },
  {
   "cell_type": "code",
   "execution_count": 1,
   "metadata": {},
   "outputs": [],
   "source": [
    "MAX_START = 1000000"
   ]
  },
  {
   "cell_type": "markdown",
   "metadata": {},
   "source": [
    "###### Solution 1\n",
    "Simple function that returns the length of a collatz sequence"
   ]
  },
  {
   "cell_type": "code",
   "execution_count": 2,
   "metadata": {},
   "outputs": [],
   "source": [
    "def collatz_length(n):\n",
    "    \"\"\"\n",
    "    Returns the length of a collatz sequence starting with n\n",
    "    \"\"\"\n",
    "    length = 1\n",
    "    while n != 1:\n",
    "        length += 1\n",
    "        if n%2 == 0:\n",
    "            n = n//2\n",
    "        else:\n",
    "            n = 3*n + 1\n",
    "    return length"
   ]
  },
  {
   "cell_type": "code",
   "execution_count": 3,
   "metadata": {},
   "outputs": [],
   "source": [
    "def solution1():\n",
    "    longest = 0\n",
    "    for i in range(1,MAX_START):\n",
    "        current = collatz_length(i)\n",
    "        if current > longest:\n",
    "            longest = current\n",
    "            start = i\n",
    "    return longest,start"
   ]
  },
  {
   "cell_type": "markdown",
   "metadata": {},
   "source": [
    "###### Solution 2\n",
    "Using **lru_cache** decorator and recursiveness to optimize runtime"
   ]
  },
  {
   "cell_type": "code",
   "execution_count": 4,
   "metadata": {},
   "outputs": [],
   "source": [
    "from functools import lru_cache"
   ]
  },
  {
   "cell_type": "code",
   "execution_count": 5,
   "metadata": {},
   "outputs": [],
   "source": [
    "@lru_cache(maxsize=None)\n",
    "def collatz(n):\n",
    "    \"\"\"\n",
    "    Returns the size of a Collatz sequence starting with a given number\n",
    "    \"\"\"\n",
    "    if n == 1:\n",
    "        return 1\n",
    "    if n%2 == 0:\n",
    "        return 1 + collatz(n//2)\n",
    "    return 1 + collatz(3*n + 1)"
   ]
  },
  {
   "cell_type": "code",
   "execution_count": 6,
   "metadata": {},
   "outputs": [],
   "source": [
    "def longest_collatz_up_to(start_limit):\n",
    "    \"\"\"\n",
    "    Returns the largest Collatz sequence starting with a number lower than the limit\n",
    "    \"\"\"\n",
    "    longest = 0\n",
    "    for i in range(1,start_limit):\n",
    "        current = collatz(i)\n",
    "        if current > longest:\n",
    "            longest = current\n",
    "            initial = i\n",
    "    return longest,initial"
   ]
  },
  {
   "cell_type": "code",
   "execution_count": 7,
   "metadata": {},
   "outputs": [
    {
     "name": "stdout",
     "output_type": "stream",
     "text": [
      "The longest Collatz sequence starting under 1000000 starts with 837799 and is 525 numbers long\n",
      "Time to run function: 22.970030069351196 seconds\n"
     ]
    }
   ],
   "source": [
    "import time\n",
    "\n",
    "t0 = time.time()\n",
    "answer = solution1()\n",
    "t1 = time.time()\n",
    "print(\"The longest Collatz sequence starting under {0} starts with {1} and is {2} numbers long\".format(MAX_START,answer[1],answer[0]))\n",
    "print(\"Time to run function: {} seconds\".format(t1-t0))"
   ]
  },
  {
   "cell_type": "code",
   "execution_count": 8,
   "metadata": {},
   "outputs": [
    {
     "name": "stdout",
     "output_type": "stream",
     "text": [
      "The longest Collatz sequence starting under 1000000 starts with 837799 and is 525 numbers long\n",
      "Time to run function: 2.196798086166382 seconds\n"
     ]
    }
   ],
   "source": [
    "t0 = time.time()\n",
    "answer = longest_collatz_up_to(MAX_START)\n",
    "t1 = time.time()\n",
    "print(\"The longest Collatz sequence starting under {0} starts with {1} and is {2} numbers long\".format(MAX_START,answer[1],answer[0]))\n",
    "print(\"Time to run function: {} seconds\".format(t1-t0))"
   ]
  },
  {
   "cell_type": "markdown",
   "metadata": {},
   "source": [
    "As we can see, the use of *lru_cache* and recursiveness made the function much faster as it could save previous results and reduce the number of operations needed"
   ]
  }
 ],
 "metadata": {
  "kernelspec": {
   "display_name": "Python 3",
   "language": "python",
   "name": "python3"
  },
  "language_info": {
   "codemirror_mode": {
    "name": "ipython",
    "version": 3
   },
   "file_extension": ".py",
   "mimetype": "text/x-python",
   "name": "python",
   "nbconvert_exporter": "python",
   "pygments_lexer": "ipython3",
   "version": "3.6.5"
  }
 },
 "nbformat": 4,
 "nbformat_minor": 2
}
