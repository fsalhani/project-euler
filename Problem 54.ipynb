{
 "cells": [
  {
   "cell_type": "markdown",
   "metadata": {},
   "source": [
    "# Problem 54"
   ]
  },
  {
   "cell_type": "markdown",
   "metadata": {},
   "source": [
    "### Poker hands\n",
    "\n",
    "In the card game poker, a hand consists of five cards and are ranked, from lowest to highest, in the following way:\n",
    "\n",
    "**High Card**: Highest value card\n",
    "\n",
    "**One Pair**: Two cards of the same value\n",
    "\n",
    "**Two Pairs**: Two different pairs\n",
    "\n",
    "**Three of a Kind**: Three cards of the same value\n",
    "\n",
    "**Straight**: All cards are consecutive values\n",
    "\n",
    "**Flush**: All cards of the same suit\n",
    "\n",
    "**Full House**: Three of a kind and a pair\n",
    "\n",
    "**Four of a Kind**: Four cards of the same value\n",
    "\n",
    "**Straight Flush**: All cards are consecutive values of same suit\n",
    "\n",
    "**Royal Flush**: Ten, Jack, Queen, King, Ace, in same suit\n",
    "\n",
    "The cards are valued in the order:\n",
    "2, 3, 4, 5, 6, 7, 8, 9, 10, Jack, Queen, King, Ace.\n",
    "\n",
    "The file, poker.txt, contains one-thousand random hands dealt to two players. Each line of the file contains ten cards (separated by a single space): the first five are Player 1's cards and the last five are Player 2's cards. You can assume that all hands are valid (no invalid characters or repeated cards), each player's hand is in no specific order, and in each hand there is a clear winner.\n",
    "\n",
    "How many hands does Player 1 win?"
   ]
  },
  {
   "cell_type": "markdown",
   "metadata": {},
   "source": [
    "##### Solution"
   ]
  },
  {
   "cell_type": "code",
   "execution_count": 1,
   "metadata": {},
   "outputs": [],
   "source": [
    "import pandas as pd"
   ]
  },
  {
   "cell_type": "code",
   "execution_count": 2,
   "metadata": {},
   "outputs": [],
   "source": [
    "hands = pd.read_table(\"Files/Problem 54/poker.txt\",header=None,delimiter=' ')"
   ]
  },
  {
   "cell_type": "code",
   "execution_count": 3,
   "metadata": {},
   "outputs": [],
   "source": [
    "player1 = hands[[0,1,2,3,4]]\n",
    "player2 = hands[[5,6,7,8,9]].rename({5:0, 6:1, 7:2, 8:3, 9:4},axis=1)"
   ]
  },
  {
   "cell_type": "code",
   "execution_count": 4,
   "metadata": {},
   "outputs": [],
   "source": [
    "cards = {'2': 2,\n",
    "         '3': 3,\n",
    "         '4': 4,\n",
    "         '5': 5,\n",
    "         '6': 6,\n",
    "         '7': 7,\n",
    "         '8': 8,\n",
    "         '9': 9,\n",
    "         'T': 10,\n",
    "         'J': 11,\n",
    "         'Q': 12,\n",
    "         'K': 13,\n",
    "         'A': 14}"
   ]
  },
  {
   "cell_type": "code",
   "execution_count": 5,
   "metadata": {},
   "outputs": [],
   "source": [
    "poker_hands = {'High card': 1,\n",
    "               'Pair': 2,\n",
    "               'Two pairs': 3,\n",
    "               'Three of a kind': 4,\n",
    "               'Straight': 5,\n",
    "               'Flush': 6,\n",
    "               'Full house': 7,\n",
    "               'Four of a kind': 8,\n",
    "               'Straight flush': 9\n",
    "              }"
   ]
  },
  {
   "cell_type": "code",
   "execution_count": 6,
   "metadata": {
    "scrolled": true
   },
   "outputs": [],
   "source": [
    "def check_flush(hand):\n",
    "    old_suit = hand[0][1]\n",
    "    values = []\n",
    "    \n",
    "    for card in hand:\n",
    "        new_suit = card[1]\n",
    "        if new_suit != old_suit:\n",
    "            return False,None\n",
    "        values.append(cards[card[0]])\n",
    "    \n",
    "    values.sort(reverse=True)\n",
    "    return True,values"
   ]
  },
  {
   "cell_type": "code",
   "execution_count": 7,
   "metadata": {},
   "outputs": [
    {
     "name": "stdout",
     "output_type": "stream",
     "text": [
      "(False, None)\n",
      "(True, [14, 11, 10, 9, 2])\n"
     ]
    }
   ],
   "source": [
    "test_false = pd.Series(['AC','9H','TC','2C','JH'])\n",
    "test_true = pd.Series(['AH','9H','TH','2H','JH'])\n",
    "\n",
    "print(check_flush(test_false))\n",
    "print(check_flush(test_true))"
   ]
  },
  {
   "cell_type": "code",
   "execution_count": 8,
   "metadata": {},
   "outputs": [],
   "source": [
    "def check_straight(hand):\n",
    "    values = []\n",
    "    for card in hand:\n",
    "        values.append(cards[card[0]])\n",
    "    \n",
    "    values.sort(reverse=True) \n",
    "    if values == [14,5,4,3,2]:\n",
    "        return True,[5,4,3,2,1]\n",
    "    \n",
    "    for i in range(1,len(values)):\n",
    "        if values[i] != values[i-1] - 1:\n",
    "            return False,None\n",
    "    \n",
    "    return True,values"
   ]
  },
  {
   "cell_type": "code",
   "execution_count": 9,
   "metadata": {},
   "outputs": [
    {
     "name": "stdout",
     "output_type": "stream",
     "text": [
      "(False, None)\n",
      "(True, [13, 12, 11, 10, 9])\n"
     ]
    }
   ],
   "source": [
    "test_false = pd.Series(['3C','5H','AD','AC','6C'])\n",
    "test_true = pd.Series(['QH','9H','TC','KD','JH'])\n",
    "\n",
    "print(check_straight(test_false))\n",
    "print(check_straight(test_true))"
   ]
  },
  {
   "cell_type": "code",
   "execution_count": 24,
   "metadata": {},
   "outputs": [],
   "source": [
    "def number_combinations(hand):\n",
    "    values = []\n",
    "    for card in hand:\n",
    "        values.append(cards[card[0]])\n",
    "    \n",
    "    matches = pd.Series(values).value_counts()\n",
    "    sequence = pd.DataFrame(data=[matches.index,matches]).transpose().sort_values(by=[1,0],ascending=False)[0].values\n",
    "    \n",
    "    if len(matches) == 2:\n",
    "        if max(matches) == 4:\n",
    "            return 'Four of a kind',sequence\n",
    "        return 'Full house', sequence\n",
    "    if len(matches) == 3:\n",
    "        if max(matches) == 3:\n",
    "            return 'Three of a kind',sequence\n",
    "        return 'Two pairs', sequence\n",
    "    if len(matches) == 4:\n",
    "        return 'Pair',sequence\n",
    "    return 'High card',sequence"
   ]
  },
  {
   "cell_type": "code",
   "execution_count": 25,
   "metadata": {},
   "outputs": [
    {
     "name": "stdout",
     "output_type": "stream",
     "text": [
      "('Four of a kind', array([3, 5], dtype=int64))\n",
      "('Full house', array([ 9, 12], dtype=int64))\n",
      "('Three of a kind', array([ 3, 14,  5], dtype=int64))\n",
      "('Two pairs', array([12, 10, 11], dtype=int64))\n",
      "('Pair', array([14,  6,  5,  3], dtype=int64))\n",
      "('High card', array([13, 12, 11, 10,  9], dtype=int64))\n"
     ]
    }
   ],
   "source": [
    "four_of_a_kind = pd.Series(['3C','3H','3D','3S','5H'])\n",
    "full_house = pd.Series(['QH','9C','9H','9D','QD'])\n",
    "three_of_a_kind = pd.Series(['3C','3H','3S','AC','5H'])\n",
    "two_pairs = pd.Series(['QH','QS','TH','TC','JH'])\n",
    "pair = pd.Series(['3C','6H','AC','AC','5H'])\n",
    "high_card = pd.Series(['QH','9H','TH','KH','JH'])\n",
    "\n",
    "print(number_combinations(four_of_a_kind))\n",
    "print(number_combinations(full_house))\n",
    "print(number_combinations(three_of_a_kind))\n",
    "print(number_combinations(two_pairs))\n",
    "print(number_combinations(pair))\n",
    "print(number_combinations(high_card))"
   ]
  },
  {
   "cell_type": "code",
   "execution_count": 26,
   "metadata": {},
   "outputs": [],
   "source": [
    "def compare_vectors(v1,v2):\n",
    "    \"\"\"\n",
    "    Compares two vectors of the same size based on their earliest different values and returns [1,0] if the first is greater,\n",
    "    [0,1] if the second is greater and [0,0] if they are the same\n",
    "    \n",
    "    Input:\n",
    "    - v1,v2: vectors of integers\n",
    "    \n",
    "    Return: [int,int]\n",
    "    \"\"\"\n",
    "    for i in range(len(v1)):\n",
    "        if v1[i] > v2[i]:\n",
    "            return [1,0]\n",
    "        if v2[i] > v1[i]:\n",
    "            return [0,1]\n",
    "    \n",
    "    return [0,0]"
   ]
  },
  {
   "cell_type": "code",
   "execution_count": 30,
   "metadata": {},
   "outputs": [],
   "source": [
    "def compare_hands(hand1,hand2):\n",
    "    p1_flush,p1_values = check_flush(hand1)\n",
    "    p2_flush,p2_values = check_flush(hand2)\n",
    "    p1_straight,p1_straight_cards = check_straight(hand1)\n",
    "    p2_straight,p2_straight_cards = check_straight(hand2)\n",
    "    \n",
    "    if p1_flush or p1_straight:\n",
    "        if p1_flush and p1_straight:\n",
    "            p1_result = poker_hands['Straight flush']\n",
    "            p1_cards = p1_values\n",
    "        elif p1_flush:\n",
    "            p1_result = poker_hands['Flush']\n",
    "            p1_cards = p1_values\n",
    "        else:\n",
    "            p1_result = poker_hands['Straight']\n",
    "            p1_cards = p1_straight_cards\n",
    "    else:\n",
    "        result,p1_cards = number_combinations(hand1)\n",
    "        p1_result = poker_hands[result]\n",
    "    \n",
    "    if p2_flush or p2_straight:\n",
    "        if p2_flush and p2_straight:\n",
    "            p2_result = poker_hands['Straight flush']\n",
    "            p2_cards = p1_values\n",
    "        elif p2_flush:\n",
    "            p2_result = poker_hands['Flush']\n",
    "            p2_cards = p1_values\n",
    "        else:\n",
    "            p2_result = poker_hands['Straight']\n",
    "            p2_cards = p1_straight_cards\n",
    "    else:\n",
    "        result,p2_cards = number_combinations(hand2)\n",
    "        p2_result = poker_hands[result]\n",
    "    \n",
    "    if p1_result != p2_result:\n",
    "        if p1_result > p2_result:\n",
    "            return [1,0]\n",
    "        else:\n",
    "            return [0,1]\n",
    "    return compare_vectors(p1_cards,p2_cards)"
   ]
  },
  {
   "cell_type": "code",
   "execution_count": 31,
   "metadata": {},
   "outputs": [
    {
     "name": "stdout",
     "output_type": "stream",
     "text": [
      "376 624\n"
     ]
    }
   ],
   "source": [
    "p1 = 0\n",
    "p2 = 0\n",
    "\n",
    "for i in range(len(hands)):\n",
    "    result = compare_hands(player1.iloc[i],player2.iloc[i])\n",
    "    p1 += result[0]\n",
    "    p2 += result[1]\n",
    "\n",
    "print(p1,p2)"
   ]
  },
  {
   "cell_type": "code",
   "execution_count": null,
   "metadata": {},
   "outputs": [],
   "source": []
  },
  {
   "cell_type": "code",
   "execution_count": null,
   "metadata": {},
   "outputs": [],
   "source": []
  }
 ],
 "metadata": {
  "kernelspec": {
   "display_name": "Python 3",
   "language": "python",
   "name": "python3"
  },
  "language_info": {
   "codemirror_mode": {
    "name": "ipython",
    "version": 3
   },
   "file_extension": ".py",
   "mimetype": "text/x-python",
   "name": "python",
   "nbconvert_exporter": "python",
   "pygments_lexer": "ipython3",
   "version": "3.6.5"
  }
 },
 "nbformat": 4,
 "nbformat_minor": 2
}
