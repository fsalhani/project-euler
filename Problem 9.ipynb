{
 "cells": [
  {
   "cell_type": "markdown",
   "metadata": {},
   "source": [
    "# Problem 9 "
   ]
  },
  {
   "cell_type": "markdown",
   "metadata": {},
   "source": [
    "### Special Pythagorean triplet\n",
    "A Pythagorean triplet is a set of three natural numbers, a < b < c, for which,\n",
    "\n",
    "a^2 + b^2 = c^2\n",
    "\n",
    "For example, 3^2 + 4^2 = 9 + 16 = 25 = 5^2.\n",
    "\n",
    "There exists exactly one Pythagorean triplet for which a + b + c = 1000.\n",
    "Find the product abc"
   ]
  },
  {
   "cell_type": "markdown",
   "metadata": {},
   "source": [
    "###### Solution\n",
    "By definition a + b > c, so c <= 500. Also, c >= 334\n",
    "\n",
    "Also, the minimum value (a^2 + b^2) happens when a ~= b, for a given c "
   ]
  },
  {
   "cell_type": "code",
   "execution_count": 2,
   "metadata": {},
   "outputs": [],
   "source": [
    "SUM_ABC = 1000\n",
    "MAX_C = SUM_ABC//2\n",
    "MIN_C = SUM_ABC//3 + 1"
   ]
  },
  {
   "cell_type": "code",
   "execution_count": 9,
   "metadata": {},
   "outputs": [
    {
     "name": "stdout",
     "output_type": "stream",
     "text": [
      "200^2 + 375^2 = 40000 + 140625 = 180625 = 425^2\n",
      "200*375*425 = 31875000\n"
     ]
    }
   ],
   "source": [
    "c = MAX_C\n",
    "\n",
    "while c >= MIN_C:\n",
    "    b = (SUM_ABC - c)//2 + 1\n",
    "    while b < c:\n",
    "        a = SUM_ABC - c - b\n",
    "        if a**2 + b**2 >= c**2:\n",
    "            break\n",
    "        b += 1\n",
    "    if a**2 + b**2 == c**2:\n",
    "        break\n",
    "    c -= 1\n",
    "    \n",
    "print(\"{0}^2 + {1}^2 = {2} + {3} = {4} = {5}^2\".format(a,b,a**2,b**2,c**2,c))\n",
    "print(\"{0}*{1}*{2} = {3}\".format(a,b,c,a*b*c))"
   ]
  }
 ],
 "metadata": {
  "kernelspec": {
   "display_name": "Python 3",
   "language": "python",
   "name": "python3"
  },
  "language_info": {
   "codemirror_mode": {
    "name": "ipython",
    "version": 3
   },
   "file_extension": ".py",
   "mimetype": "text/x-python",
   "name": "python",
   "nbconvert_exporter": "python",
   "pygments_lexer": "ipython3",
   "version": "3.6.5"
  }
 },
 "nbformat": 4,
 "nbformat_minor": 2
}
